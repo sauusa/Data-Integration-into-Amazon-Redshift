{
 "cells": [
  {
   "cell_type": "markdown",
   "metadata": {
    "editable": true
   },
   "source": [
    "Create Redshift Cluster if not created already\n",
    "\n",
    "Note: You will need to update your AWS KEY & Secret Key in dwh.cfg file"
   ]
  },
  {
   "cell_type": "code",
   "execution_count": 3,
   "metadata": {
    "editable": true
   },
   "outputs": [
    {
     "name": "stdout",
     "output_type": "stream",
     "text": [
      "An error occurred (ClusterAlreadyExists) when calling the CreateCluster operation: Cluster already exists\n"
     ]
    }
   ],
   "source": [
    "import configparser\n",
    "import json\n",
    "import boto3\n",
    "import matplotlib.pyplot as plt\n",
    "import pandas as pd\n",
    "from time import time\n",
    "from botocore.exceptions import ClientError\n",
    "\n",
    "config = configparser.ConfigParser()\n",
    "config.read_file(open('dwh.cfg'))\n",
    "\n",
    "KEY                    = config.get('AWS','KEY')\n",
    "SECRET                 = config.get('AWS','SECRET')\n",
    "\n",
    "DWH_CLUSTER_TYPE       = \"multi-node\"\n",
    "DWH_NUM_NODES          = 4\n",
    "DWH_NODE_TYPE          = \"dc2.large\"\n",
    "\n",
    "DWH_CLUSTER_IDENTIFIER = \"dwhCluster\"\n",
    "DWH_DB                 = config.get(\"CLUSTER\",\"DB_NAME\")\n",
    "DWH_DB_USER            = config.get(\"CLUSTER\",\"DB_USER\")\n",
    "DWH_DB_PASSWORD        = config.get(\"CLUSTER\",\"DB_PASSWORD\")\n",
    "DWH_PORT               = config.get(\"CLUSTER\",\"DB_PORT\")\n",
    "\n",
    "DWH_IAM_ROLE_NAME      = \"dwhRole\"\n",
    "\n",
    "iam = boto3.client('iam',aws_access_key_id=KEY,\n",
    "                     aws_secret_access_key=SECRET,\n",
    "                     region_name='us-east-1'\n",
    "                  )\n",
    "\n",
    "redshift = boto3.client('redshift',\n",
    "                       region_name=\"us-east-1\",\n",
    "                       aws_access_key_id=KEY,\n",
    "                       aws_secret_access_key=SECRET\n",
    "                       )\n",
    "\n",
    "roleArn = iam.get_role(RoleName='dwhRole')['Role']['Arn']\n",
    "\n",
    "#(DWH_DB_USER, DWH_DB_PASSWORD, DWH_DB)\n",
    "\n",
    "#pd.DataFrame({\"Param\":\n",
    "#                  [\"DWH_CLUSTER_TYPE\", \"DWH_NUM_NODES\", \"DWH_NODE_TYPE\", \"DWH_CLUSTER_IDENTIFIER\", \"DWH_DB\", \"DWH_DB_USER\", \"DWH_DB_PASSWORD\", \"DWH_PORT\", \"DWH_IAM_ROLE_NAME\"],\n",
    "#              \"Value\":\n",
    "#                  [DWH_CLUSTER_TYPE, DWH_NUM_NODES, DWH_NODE_TYPE, DWH_CLUSTER_IDENTIFIER, DWH_DB, DWH_DB_USER, DWH_DB_PASSWORD, DWH_PORT, DWH_IAM_ROLE_NAME]\n",
    "#             })\n",
    "try:\n",
    "    response = redshift.create_cluster(        \n",
    "        #HW\n",
    "        ClusterType=DWH_CLUSTER_TYPE,\n",
    "        NodeType=DWH_NODE_TYPE,\n",
    "        NumberOfNodes=int(DWH_NUM_NODES),\n",
    "\n",
    "        #Identifiers & Credentials\n",
    "        DBName=DWH_DB,\n",
    "        ClusterIdentifier=DWH_CLUSTER_IDENTIFIER,\n",
    "        MasterUsername=DWH_DB_USER,\n",
    "        MasterUserPassword=DWH_DB_PASSWORD,\n",
    "        \n",
    "        #Roles (for s3 access)\n",
    "        IamRoles=[roleArn]  \n",
    "    )\n",
    "except Exception as e:\n",
    "    print(e)"
   ]
  },
  {
   "cell_type": "markdown",
   "metadata": {
    "editable": true
   },
   "source": [
    "#STEP 1\n",
    "\n",
    "Run create_tables.py to create database schema and connect to AWS resources"
   ]
  },
  {
   "cell_type": "code",
   "execution_count": 1,
   "metadata": {
    "editable": true
   },
   "outputs": [
    {
     "name": "stdout",
     "output_type": "stream",
     "text": [
      "\n",
      "-------DROP The Tables------\n",
      "\n",
      "stage_events is dropped.\n",
      "stage_songs is dropped.\n",
      "artist is dropped.\n",
      "songs is dropped.\n",
      "users is dropped.\n",
      "songplays is dropped.\n",
      "time is dropped.\n",
      "\n",
      "-------CREATE The Tables------\n",
      "\n",
      "stage_events is created.\n",
      "stage_songs is created.\n",
      "artist is created.\n",
      "songs is created.\n",
      "users is created.\n",
      "songplays is created.\n",
      "time is created.\n"
     ]
    }
   ],
   "source": [
    "run create_tables.py"
   ]
  },
  {
   "cell_type": "markdown",
   "metadata": {
    "editable": true
   },
   "source": [
    "#STEP 2\n",
    "\n",
    "Run the etl.py to complete the ETL process\n",
    "\n",
    "(It may take upto 30 Minutes) "
   ]
  },
  {
   "cell_type": "code",
   "execution_count": 2,
   "metadata": {
    "editable": true
   },
   "outputs": [
    {
     "name": "stdout",
     "output_type": "stream",
     "text": [
      "\n",
      "-------COPY The Files Data to Staging Tables------\n",
      "\n",
      "stage_events : data is copied.\n",
      "stage_songs : data is copied.\n",
      "\n",
      "-------INSERT The Data into Analytics Tables------\n",
      "\n",
      "artist : data is inserted.\n",
      "songs : data is inserted.\n",
      "users : data is inserted.\n",
      "songplays : data is inserted.\n",
      "time : data is inserted.\n"
     ]
    }
   ],
   "source": [
    "run etl.py"
   ]
  },
  {
   "cell_type": "markdown",
   "metadata": {
    "editable": true
   },
   "source": [
    "-----Investigate Errors (in case)------"
   ]
  },
  {
   "cell_type": "code",
   "execution_count": 3,
   "metadata": {
    "editable": true
   },
   "outputs": [
    {
     "name": "stdout",
     "output_type": "stream",
     "text": [
      "<connection object at 0x7fe55e42d9c8; dsn: 'user=dwhuser password=xxx dbname=dwh host=dwhcluster.ci91joqghsgo.us-east-1.redshift.amazonaws.com port=5439', closed: 0>\n"
     ]
    }
   ],
   "source": [
    "#%load_ext sql\n",
    "import psycopg2\n",
    "import os\n",
    "import sqlalchemy\n",
    "from sqlalchemy import *\n",
    "\n",
    "config = configparser.ConfigParser()\n",
    "config.read('dwh.cfg')\n",
    "\n",
    "conn = psycopg2.connect(\"host={} dbname={} user={} password={} port={}\".format(*config['CLUSTER'].values()))\n",
    "cur = conn.cursor()\n",
    "\n",
    "print(conn)"
   ]
  },
  {
   "cell_type": "code",
   "execution_count": 4,
   "metadata": {
    "editable": true
   },
   "outputs": [
    {
     "name": "stdout",
     "output_type": "stream",
     "text": [
      "(100, 5, 101717, datetime.datetime(2020, 9, 15, 3, 3, 43, 643790), 10197, 44168, 's3://udacity-dend/log_data/2018/11/2018-11-06-events.json                                                                                                                                                                                                       ', 1, '                                                                                                                               ', '          ', '          ', 0, '1541470364796                                                                                                                                                                                                                                                                                                                                                                                                                                                                                                                                                                                                                                                                                                                                                                                                                                                                                                                                                                                                                                                   ', '                                                                                                                                                                                                                                                                                                                                                                                                                                                                                                                                                                                                                                                                                                                                                                                                                                                                                                                                                                                                                                                                ', 1216, 'Overflow, Column type: Integer                                                                      ')\n",
      "(100, 4, 101717, datetime.datetime(2020, 9, 15, 3, 3, 43, 643500), 10197, 44168, 's3://udacity-dend/log_data/2018/11/2018-11-02-events.json                                                                                                                                                                                                       ', 1, '                                                                                                                               ', '          ', '          ', 0, '1541121934796                                                                                                                                                                                                                                                                                                                                                                                                                                                                                                                                                                                                                                                                                                                                                                                                                                                                                                                                                                                                                                                   ', '                                                                                                                                                                                                                                                                                                                                                                                                                                                                                                                                                                                                                                                                                                                                                                                                                                                                                                                                                                                                                                                                ', 1216, 'Overflow, Column type: Integer                                                                      ')\n",
      "(100, 5, 101744, datetime.datetime(2020, 9, 15, 3, 19, 31, 495996), 11946, 44320, 's3://udacity-dend/log_data/2018/11/2018-11-06-events.json                                                                                                                                                                                                       ', 1, '                                                                                                                               ', '          ', '          ', 0, '1541470364796                                                                                                                                                                                                                                                                                                                                                                                                                                                                                                                                                                                                                                                                                                                                                                                                                                                                                                                                                                                                                                                   ', '                                                                                                                                                                                                                                                                                                                                                                                                                                                                                                                                                                                                                                                                                                                                                                                                                                                                                                                                                                                                                                                                ', 1216, 'Overflow, Column type: Integer                                                                      ')\n"
     ]
    }
   ],
   "source": [
    "#%%sql\n",
    "try:\n",
    "#   cur.execute(\"select le.query, le.err_reason \\\n",
    "   cur.execute(\"select * from STL_LOAD_ERRORS limit 3;\")\n",
    "except psycopg2.Error as e:\n",
    "    print(\"Error: select *\")\n",
    "    print(e)\n",
    "    \n",
    "row = cur.fetchone()\n",
    "while row:\n",
    "    print(row)\n",
    "    row = cur.fetchone()"
   ]
  },
  {
   "cell_type": "markdown",
   "metadata": {
    "editable": true
   },
   "source": [
    "#STEP 3\n",
    "\n",
    "Check the results from newly created tables"
   ]
  },
  {
   "cell_type": "code",
   "execution_count": 9,
   "metadata": {
    "editable": true
   },
   "outputs": [
    {
     "name": "stdout",
     "output_type": "stream",
     "text": [
      "(datetime.datetime(2018, 11, 28, 13, 45, 0, 796000), 13, 28, 48, 11, 2018, 3)\n",
      "(datetime.datetime(2018, 11, 14, 15, 47, 47, 796000), 15, 14, 46, 11, 2018, 3)\n",
      "(datetime.datetime(2018, 11, 8, 10, 28, 27, 796000), 10, 8, 45, 11, 2018, 4)\n",
      "(datetime.datetime(2018, 11, 16, 10, 43, 30, 796000), 10, 16, 46, 11, 2018, 5)\n",
      "(datetime.datetime(2018, 11, 3, 19, 33, 39, 796000), 19, 3, 44, 11, 2018, 6)\n"
     ]
    }
   ],
   "source": [
    "#%%sql\n",
    "try:\n",
    "#   cur.execute(\"select * from stage_events limit 5;\")\n",
    "#   cur.execute(\"select * from stage_songs limit 5;\")\n",
    "#    cur.execute(\"select * from songplays limit 5;\")\n",
    "#   cur.execute(\"select * from users limit 5;\")\n",
    "#   cur.execute(\"select * from songs limit 5;\")\n",
    "#   cur.execute(\"select * from artists limit 5;\")               \n",
    "   cur.execute(\"select * from time limit 5;\")                              \n",
    "\n",
    "except psycopg2.Error as e:\n",
    "    print(\"Error: select *\")\n",
    "    print(e)\n",
    "    \n",
    "row = cur.fetchone()\n",
    "while row:\n",
    "    print(row)\n",
    "    row = cur.fetchone()"
   ]
  },
  {
   "cell_type": "markdown",
   "metadata": {
    "editable": true
   },
   "source": [
    "Check the counts"
   ]
  },
  {
   "cell_type": "code",
   "execution_count": 11,
   "metadata": {
    "editable": true
   },
   "outputs": [
    {
     "name": "stdout",
     "output_type": "stream",
     "text": [
      "stage_events count: \n",
      "(8056,)\n",
      "stage_songs count: \n",
      "(14896,)\n",
      "songplays count: \n",
      "(333,)\n",
      "users count: \n",
      "(104,)\n",
      "songs count: \n",
      "(14896,)\n",
      "artist count: \n",
      "(10025,)\n",
      "time count: \n",
      "(333,)\n"
     ]
    }
   ],
   "source": [
    "stage_events_count      = \"select count(*) from stage_events\"\n",
    "stage_songs_count       = \"select count(*) from stage_songs\"\n",
    "songplays_count         = \"select count(*) from songplays\"\n",
    "users_count             = \"select count(*) from users\"\n",
    "songs_count             = \"select count(*) from songs\"\n",
    "artists_count           = \"select count(*) from artists\"\n",
    "time_count              = \"select count(*) from time\"\n",
    "\n",
    "table_list = [\"stage_events\", \"stage_songs\", \"songplays\", \"users\", \"songs\", \"artist\", \"time\"] \n",
    "count_table_queries = [stage_events_count, stage_songs_count, songplays_count, users_count, songs_count, artists_count, time_count]\n",
    "\n",
    "i = 0\n",
    "for query in count_table_queries:\n",
    "    print(\"{} count: \".format(table_list[i]))\n",
    "    cur.execute(query)\n",
    "    row = cur.fetchone()\n",
    "    print(row)\n",
    "    i = i + 1"
   ]
  },
  {
   "cell_type": "code",
   "execution_count": null,
   "metadata": {
    "editable": true
   },
   "outputs": [],
   "source": []
  }
 ],
 "metadata": {
  "kernelspec": {
   "display_name": "Python 3",
   "language": "python",
   "name": "python3"
  },
  "language_info": {
   "codemirror_mode": {
    "name": "ipython",
    "version": 3
   },
   "file_extension": ".py",
   "mimetype": "text/x-python",
   "name": "python",
   "nbconvert_exporter": "python",
   "pygments_lexer": "ipython3",
   "version": "3.6.3"
  }
 },
 "nbformat": 4,
 "nbformat_minor": 4
}
